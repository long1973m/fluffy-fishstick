{
 "cells": [
  {
   "cell_type": "markdown",
   "metadata": {},
   "source": [
    "<p style=\"text-align:center\">\n",
    "    <a href=\"https://skills.network\" target=\"_blank\">\n",
    "    <img src=\"https://cf-courses-data.s3.us.cloud-object-storage.appdomain.cloud/assets/logos/SN_web_lightmode.png\" width=\"200\" alt=\"Skills Network Logo\"  />\n",
    "    </a>\n",
    "</p>\n"
   ]
  },
  {
   "cell_type": "markdown",
   "metadata": {},
   "source": [
    "# **Finding Outliers**\n"
   ]
  },
  {
   "cell_type": "markdown",
   "metadata": {},
   "source": [
    "Estimated time needed: **30** minutes\n"
   ]
  },
  {
   "cell_type": "markdown",
   "metadata": {},
   "source": [
    "In this lab, you will work with a cleaned dataset to perform exploratory data analysis or EDA. \n",
    "You will explore the distribution of key variables and focus on identifying outliers in this lab.\n"
   ]
  },
  {
   "cell_type": "markdown",
   "metadata": {},
   "source": [
    "## Objectives\n"
   ]
  },
  {
   "cell_type": "markdown",
   "metadata": {},
   "source": [
    "In this lab, you will perform the following:\n"
   ]
  },
  {
   "cell_type": "markdown",
   "metadata": {},
   "source": [
    "-  Analyze the distribution of key variables in the dataset.\n",
    "\n",
    "-  Identify and remove outliers using statistical methods.\n",
    "\n",
    "-  Perform relevant statistical and correlation analysis.\n"
   ]
  },
  {
   "cell_type": "markdown",
   "metadata": {},
   "source": [
    "#### Install and import the required libraries\n"
   ]
  },
  {
   "cell_type": "code",
   "execution_count": 1,
   "metadata": {},
   "outputs": [
    {
     "name": "stdout",
     "output_type": "stream",
     "text": [
      "Collecting pandas\n",
      "  Downloading pandas-2.2.3-cp312-cp312-manylinux_2_17_x86_64.manylinux2014_x86_64.whl.metadata (89 kB)\n",
      "Collecting numpy>=1.26.0 (from pandas)\n",
      "  Downloading numpy-2.2.2-cp312-cp312-manylinux_2_17_x86_64.manylinux2014_x86_64.whl.metadata (62 kB)\n",
      "Requirement already satisfied: python-dateutil>=2.8.2 in /opt/conda/lib/python3.12/site-packages (from pandas) (2.9.0.post0)\n",
      "Requirement already satisfied: pytz>=2020.1 in /opt/conda/lib/python3.12/site-packages (from pandas) (2024.2)\n",
      "Collecting tzdata>=2022.7 (from pandas)\n",
      "  Downloading tzdata-2025.1-py2.py3-none-any.whl.metadata (1.4 kB)\n",
      "Requirement already satisfied: six>=1.5 in /opt/conda/lib/python3.12/site-packages (from python-dateutil>=2.8.2->pandas) (1.17.0)\n",
      "Downloading pandas-2.2.3-cp312-cp312-manylinux_2_17_x86_64.manylinux2014_x86_64.whl (12.7 MB)\n",
      "\u001b[2K   \u001b[90m━━━━━━━━━━━━━━━━━━━━━━━━━━━━━━━━━━━━━━━━\u001b[0m \u001b[32m12.7/12.7 MB\u001b[0m \u001b[31m147.1 MB/s\u001b[0m eta \u001b[36m0:00:00\u001b[0m\n",
      "\u001b[?25hDownloading numpy-2.2.2-cp312-cp312-manylinux_2_17_x86_64.manylinux2014_x86_64.whl (16.1 MB)\n",
      "\u001b[2K   \u001b[90m━━━━━━━━━━━━━━━━━━━━━━━━━━━━━━━━━━━━━━━━\u001b[0m \u001b[32m16.1/16.1 MB\u001b[0m \u001b[31m163.5 MB/s\u001b[0m eta \u001b[36m0:00:00\u001b[0m\n",
      "\u001b[?25hDownloading tzdata-2025.1-py2.py3-none-any.whl (346 kB)\n",
      "Installing collected packages: tzdata, numpy, pandas\n",
      "Successfully installed numpy-2.2.2 pandas-2.2.3 tzdata-2025.1\n",
      "Collecting matplotlib\n",
      "  Downloading matplotlib-3.10.0-cp312-cp312-manylinux_2_17_x86_64.manylinux2014_x86_64.whl.metadata (11 kB)\n",
      "Collecting contourpy>=1.0.1 (from matplotlib)\n",
      "  Downloading contourpy-1.3.1-cp312-cp312-manylinux_2_17_x86_64.manylinux2014_x86_64.whl.metadata (5.4 kB)\n",
      "Collecting cycler>=0.10 (from matplotlib)\n",
      "  Downloading cycler-0.12.1-py3-none-any.whl.metadata (3.8 kB)\n",
      "Collecting fonttools>=4.22.0 (from matplotlib)\n",
      "  Downloading fonttools-4.56.0-cp312-cp312-manylinux_2_5_x86_64.manylinux1_x86_64.manylinux_2_17_x86_64.manylinux2014_x86_64.whl.metadata (101 kB)\n",
      "Collecting kiwisolver>=1.3.1 (from matplotlib)\n",
      "  Downloading kiwisolver-1.4.8-cp312-cp312-manylinux_2_17_x86_64.manylinux2014_x86_64.whl.metadata (6.2 kB)\n",
      "Requirement already satisfied: numpy>=1.23 in /opt/conda/lib/python3.12/site-packages (from matplotlib) (2.2.2)\n",
      "Requirement already satisfied: packaging>=20.0 in /opt/conda/lib/python3.12/site-packages (from matplotlib) (24.2)\n",
      "Collecting pillow>=8 (from matplotlib)\n",
      "  Downloading pillow-11.1.0-cp312-cp312-manylinux_2_28_x86_64.whl.metadata (9.1 kB)\n",
      "Collecting pyparsing>=2.3.1 (from matplotlib)\n",
      "  Downloading pyparsing-3.2.1-py3-none-any.whl.metadata (5.0 kB)\n",
      "Requirement already satisfied: python-dateutil>=2.7 in /opt/conda/lib/python3.12/site-packages (from matplotlib) (2.9.0.post0)\n",
      "Requirement already satisfied: six>=1.5 in /opt/conda/lib/python3.12/site-packages (from python-dateutil>=2.7->matplotlib) (1.17.0)\n",
      "Downloading matplotlib-3.10.0-cp312-cp312-manylinux_2_17_x86_64.manylinux2014_x86_64.whl (8.6 MB)\n",
      "\u001b[2K   \u001b[90m━━━━━━━━━━━━━━━━━━━━━━━━━━━━━━━━━━━━━━━━\u001b[0m \u001b[32m8.6/8.6 MB\u001b[0m \u001b[31m150.7 MB/s\u001b[0m eta \u001b[36m0:00:00\u001b[0m\n",
      "\u001b[?25hDownloading contourpy-1.3.1-cp312-cp312-manylinux_2_17_x86_64.manylinux2014_x86_64.whl (323 kB)\n",
      "Downloading cycler-0.12.1-py3-none-any.whl (8.3 kB)\n",
      "Downloading fonttools-4.56.0-cp312-cp312-manylinux_2_5_x86_64.manylinux1_x86_64.manylinux_2_17_x86_64.manylinux2014_x86_64.whl (4.9 MB)\n",
      "\u001b[2K   \u001b[90m━━━━━━━━━━━━━━━━━━━━━━━━━━━━━━━━━━━━━━━━\u001b[0m \u001b[32m4.9/4.9 MB\u001b[0m \u001b[31m148.9 MB/s\u001b[0m eta \u001b[36m0:00:00\u001b[0m\n",
      "\u001b[?25hDownloading kiwisolver-1.4.8-cp312-cp312-manylinux_2_17_x86_64.manylinux2014_x86_64.whl (1.5 MB)\n",
      "\u001b[2K   \u001b[90m━━━━━━━━━━━━━━━━━━━━━━━━━━━━━━━━━━━━━━━━\u001b[0m \u001b[32m1.5/1.5 MB\u001b[0m \u001b[31m77.5 MB/s\u001b[0m eta \u001b[36m0:00:00\u001b[0m\n",
      "\u001b[?25hDownloading pillow-11.1.0-cp312-cp312-manylinux_2_28_x86_64.whl (4.5 MB)\n",
      "\u001b[2K   \u001b[90m━━━━━━━━━━━━━━━━━━━━━━━━━━━━━━━━━━━━━━━━\u001b[0m \u001b[32m4.5/4.5 MB\u001b[0m \u001b[31m144.7 MB/s\u001b[0m eta \u001b[36m0:00:00\u001b[0m\n",
      "\u001b[?25hDownloading pyparsing-3.2.1-py3-none-any.whl (107 kB)\n",
      "Installing collected packages: pyparsing, pillow, kiwisolver, fonttools, cycler, contourpy, matplotlib\n",
      "Successfully installed contourpy-1.3.1 cycler-0.12.1 fonttools-4.56.0 kiwisolver-1.4.8 matplotlib-3.10.0 pillow-11.1.0 pyparsing-3.2.1\n",
      "Collecting seaborn\n",
      "  Downloading seaborn-0.13.2-py3-none-any.whl.metadata (5.4 kB)\n",
      "Requirement already satisfied: numpy!=1.24.0,>=1.20 in /opt/conda/lib/python3.12/site-packages (from seaborn) (2.2.2)\n",
      "Requirement already satisfied: pandas>=1.2 in /opt/conda/lib/python3.12/site-packages (from seaborn) (2.2.3)\n",
      "Requirement already satisfied: matplotlib!=3.6.1,>=3.4 in /opt/conda/lib/python3.12/site-packages (from seaborn) (3.10.0)\n",
      "Requirement already satisfied: contourpy>=1.0.1 in /opt/conda/lib/python3.12/site-packages (from matplotlib!=3.6.1,>=3.4->seaborn) (1.3.1)\n",
      "Requirement already satisfied: cycler>=0.10 in /opt/conda/lib/python3.12/site-packages (from matplotlib!=3.6.1,>=3.4->seaborn) (0.12.1)\n",
      "Requirement already satisfied: fonttools>=4.22.0 in /opt/conda/lib/python3.12/site-packages (from matplotlib!=3.6.1,>=3.4->seaborn) (4.56.0)\n",
      "Requirement already satisfied: kiwisolver>=1.3.1 in /opt/conda/lib/python3.12/site-packages (from matplotlib!=3.6.1,>=3.4->seaborn) (1.4.8)\n",
      "Requirement already satisfied: packaging>=20.0 in /opt/conda/lib/python3.12/site-packages (from matplotlib!=3.6.1,>=3.4->seaborn) (24.2)\n",
      "Requirement already satisfied: pillow>=8 in /opt/conda/lib/python3.12/site-packages (from matplotlib!=3.6.1,>=3.4->seaborn) (11.1.0)\n",
      "Requirement already satisfied: pyparsing>=2.3.1 in /opt/conda/lib/python3.12/site-packages (from matplotlib!=3.6.1,>=3.4->seaborn) (3.2.1)\n",
      "Requirement already satisfied: python-dateutil>=2.7 in /opt/conda/lib/python3.12/site-packages (from matplotlib!=3.6.1,>=3.4->seaborn) (2.9.0.post0)\n",
      "Requirement already satisfied: pytz>=2020.1 in /opt/conda/lib/python3.12/site-packages (from pandas>=1.2->seaborn) (2024.2)\n",
      "Requirement already satisfied: tzdata>=2022.7 in /opt/conda/lib/python3.12/site-packages (from pandas>=1.2->seaborn) (2025.1)\n",
      "Requirement already satisfied: six>=1.5 in /opt/conda/lib/python3.12/site-packages (from python-dateutil>=2.7->matplotlib!=3.6.1,>=3.4->seaborn) (1.17.0)\n",
      "Downloading seaborn-0.13.2-py3-none-any.whl (294 kB)\n",
      "Installing collected packages: seaborn\n",
      "Successfully installed seaborn-0.13.2\n"
     ]
    }
   ],
   "source": [
    "!pip install pandas\n",
    "!pip install matplotlib\n",
    "!pip install seaborn\n",
    "\n",
    "import pandas as pd\n",
    "import matplotlib.pyplot as plt\n",
    "import seaborn as sns"
   ]
  },
  {
   "cell_type": "markdown",
   "metadata": {},
   "source": [
    "<h3>Step 1: Load and Explore the Dataset</h3>\n"
   ]
  },
  {
   "cell_type": "markdown",
   "metadata": {},
   "source": [
    "Load the dataset into a DataFrame and examine the structure of the data.\n"
   ]
  },
  {
   "cell_type": "code",
   "execution_count": 2,
   "metadata": {},
   "outputs": [
    {
     "data": {
      "text/html": [
       "<div>\n",
       "<style scoped>\n",
       "    .dataframe tbody tr th:only-of-type {\n",
       "        vertical-align: middle;\n",
       "    }\n",
       "\n",
       "    .dataframe tbody tr th {\n",
       "        vertical-align: top;\n",
       "    }\n",
       "\n",
       "    .dataframe thead th {\n",
       "        text-align: right;\n",
       "    }\n",
       "</style>\n",
       "<table border=\"1\" class=\"dataframe\">\n",
       "  <thead>\n",
       "    <tr style=\"text-align: right;\">\n",
       "      <th></th>\n",
       "      <th>ResponseId</th>\n",
       "      <th>MainBranch</th>\n",
       "      <th>Age</th>\n",
       "      <th>Employment</th>\n",
       "      <th>RemoteWork</th>\n",
       "      <th>Check</th>\n",
       "      <th>CodingActivities</th>\n",
       "      <th>EdLevel</th>\n",
       "      <th>LearnCode</th>\n",
       "      <th>LearnCodeOnline</th>\n",
       "      <th>...</th>\n",
       "      <th>JobSatPoints_6</th>\n",
       "      <th>JobSatPoints_7</th>\n",
       "      <th>JobSatPoints_8</th>\n",
       "      <th>JobSatPoints_9</th>\n",
       "      <th>JobSatPoints_10</th>\n",
       "      <th>JobSatPoints_11</th>\n",
       "      <th>SurveyLength</th>\n",
       "      <th>SurveyEase</th>\n",
       "      <th>ConvertedCompYearly</th>\n",
       "      <th>JobSat</th>\n",
       "    </tr>\n",
       "  </thead>\n",
       "  <tbody>\n",
       "    <tr>\n",
       "      <th>0</th>\n",
       "      <td>1</td>\n",
       "      <td>I am a developer by profession</td>\n",
       "      <td>Under 18 years old</td>\n",
       "      <td>Employed, full-time</td>\n",
       "      <td>Remote</td>\n",
       "      <td>Apples</td>\n",
       "      <td>Hobby</td>\n",
       "      <td>Primary/elementary school</td>\n",
       "      <td>Books / Physical media</td>\n",
       "      <td>NaN</td>\n",
       "      <td>...</td>\n",
       "      <td>NaN</td>\n",
       "      <td>NaN</td>\n",
       "      <td>NaN</td>\n",
       "      <td>NaN</td>\n",
       "      <td>NaN</td>\n",
       "      <td>NaN</td>\n",
       "      <td>NaN</td>\n",
       "      <td>NaN</td>\n",
       "      <td>NaN</td>\n",
       "      <td>NaN</td>\n",
       "    </tr>\n",
       "    <tr>\n",
       "      <th>1</th>\n",
       "      <td>2</td>\n",
       "      <td>I am a developer by profession</td>\n",
       "      <td>35-44 years old</td>\n",
       "      <td>Employed, full-time</td>\n",
       "      <td>Remote</td>\n",
       "      <td>Apples</td>\n",
       "      <td>Hobby;Contribute to open-source projects;Other...</td>\n",
       "      <td>Bachelor’s degree (B.A., B.S., B.Eng., etc.)</td>\n",
       "      <td>Books / Physical media;Colleague;On the job tr...</td>\n",
       "      <td>Technical documentation;Blogs;Books;Written Tu...</td>\n",
       "      <td>...</td>\n",
       "      <td>0.0</td>\n",
       "      <td>0.0</td>\n",
       "      <td>0.0</td>\n",
       "      <td>0.0</td>\n",
       "      <td>0.0</td>\n",
       "      <td>0.0</td>\n",
       "      <td>NaN</td>\n",
       "      <td>NaN</td>\n",
       "      <td>NaN</td>\n",
       "      <td>NaN</td>\n",
       "    </tr>\n",
       "    <tr>\n",
       "      <th>2</th>\n",
       "      <td>3</td>\n",
       "      <td>I am a developer by profession</td>\n",
       "      <td>45-54 years old</td>\n",
       "      <td>Employed, full-time</td>\n",
       "      <td>Remote</td>\n",
       "      <td>Apples</td>\n",
       "      <td>Hobby;Contribute to open-source projects;Other...</td>\n",
       "      <td>Master’s degree (M.A., M.S., M.Eng., MBA, etc.)</td>\n",
       "      <td>Books / Physical media;Colleague;On the job tr...</td>\n",
       "      <td>Technical documentation;Blogs;Books;Written Tu...</td>\n",
       "      <td>...</td>\n",
       "      <td>NaN</td>\n",
       "      <td>NaN</td>\n",
       "      <td>NaN</td>\n",
       "      <td>NaN</td>\n",
       "      <td>NaN</td>\n",
       "      <td>NaN</td>\n",
       "      <td>Appropriate in length</td>\n",
       "      <td>Easy</td>\n",
       "      <td>NaN</td>\n",
       "      <td>NaN</td>\n",
       "    </tr>\n",
       "    <tr>\n",
       "      <th>3</th>\n",
       "      <td>4</td>\n",
       "      <td>I am learning to code</td>\n",
       "      <td>18-24 years old</td>\n",
       "      <td>Student, full-time</td>\n",
       "      <td>NaN</td>\n",
       "      <td>Apples</td>\n",
       "      <td>NaN</td>\n",
       "      <td>Some college/university study without earning ...</td>\n",
       "      <td>Other online resources (e.g., videos, blogs, f...</td>\n",
       "      <td>Stack Overflow;How-to videos;Interactive tutorial</td>\n",
       "      <td>...</td>\n",
       "      <td>NaN</td>\n",
       "      <td>NaN</td>\n",
       "      <td>NaN</td>\n",
       "      <td>NaN</td>\n",
       "      <td>NaN</td>\n",
       "      <td>NaN</td>\n",
       "      <td>Too long</td>\n",
       "      <td>Easy</td>\n",
       "      <td>NaN</td>\n",
       "      <td>NaN</td>\n",
       "    </tr>\n",
       "    <tr>\n",
       "      <th>4</th>\n",
       "      <td>5</td>\n",
       "      <td>I am a developer by profession</td>\n",
       "      <td>18-24 years old</td>\n",
       "      <td>Student, full-time</td>\n",
       "      <td>NaN</td>\n",
       "      <td>Apples</td>\n",
       "      <td>NaN</td>\n",
       "      <td>Secondary school (e.g. American high school, G...</td>\n",
       "      <td>Other online resources (e.g., videos, blogs, f...</td>\n",
       "      <td>Technical documentation;Blogs;Written Tutorial...</td>\n",
       "      <td>...</td>\n",
       "      <td>NaN</td>\n",
       "      <td>NaN</td>\n",
       "      <td>NaN</td>\n",
       "      <td>NaN</td>\n",
       "      <td>NaN</td>\n",
       "      <td>NaN</td>\n",
       "      <td>Too short</td>\n",
       "      <td>Easy</td>\n",
       "      <td>NaN</td>\n",
       "      <td>NaN</td>\n",
       "    </tr>\n",
       "  </tbody>\n",
       "</table>\n",
       "<p>5 rows × 114 columns</p>\n",
       "</div>"
      ],
      "text/plain": [
       "   ResponseId                      MainBranch                 Age  \\\n",
       "0           1  I am a developer by profession  Under 18 years old   \n",
       "1           2  I am a developer by profession     35-44 years old   \n",
       "2           3  I am a developer by profession     45-54 years old   \n",
       "3           4           I am learning to code     18-24 years old   \n",
       "4           5  I am a developer by profession     18-24 years old   \n",
       "\n",
       "            Employment RemoteWork   Check  \\\n",
       "0  Employed, full-time     Remote  Apples   \n",
       "1  Employed, full-time     Remote  Apples   \n",
       "2  Employed, full-time     Remote  Apples   \n",
       "3   Student, full-time        NaN  Apples   \n",
       "4   Student, full-time        NaN  Apples   \n",
       "\n",
       "                                    CodingActivities  \\\n",
       "0                                              Hobby   \n",
       "1  Hobby;Contribute to open-source projects;Other...   \n",
       "2  Hobby;Contribute to open-source projects;Other...   \n",
       "3                                                NaN   \n",
       "4                                                NaN   \n",
       "\n",
       "                                             EdLevel  \\\n",
       "0                          Primary/elementary school   \n",
       "1       Bachelor’s degree (B.A., B.S., B.Eng., etc.)   \n",
       "2    Master’s degree (M.A., M.S., M.Eng., MBA, etc.)   \n",
       "3  Some college/university study without earning ...   \n",
       "4  Secondary school (e.g. American high school, G...   \n",
       "\n",
       "                                           LearnCode  \\\n",
       "0                             Books / Physical media   \n",
       "1  Books / Physical media;Colleague;On the job tr...   \n",
       "2  Books / Physical media;Colleague;On the job tr...   \n",
       "3  Other online resources (e.g., videos, blogs, f...   \n",
       "4  Other online resources (e.g., videos, blogs, f...   \n",
       "\n",
       "                                     LearnCodeOnline  ... JobSatPoints_6  \\\n",
       "0                                                NaN  ...            NaN   \n",
       "1  Technical documentation;Blogs;Books;Written Tu...  ...            0.0   \n",
       "2  Technical documentation;Blogs;Books;Written Tu...  ...            NaN   \n",
       "3  Stack Overflow;How-to videos;Interactive tutorial  ...            NaN   \n",
       "4  Technical documentation;Blogs;Written Tutorial...  ...            NaN   \n",
       "\n",
       "  JobSatPoints_7 JobSatPoints_8 JobSatPoints_9 JobSatPoints_10  \\\n",
       "0            NaN            NaN            NaN             NaN   \n",
       "1            0.0            0.0            0.0             0.0   \n",
       "2            NaN            NaN            NaN             NaN   \n",
       "3            NaN            NaN            NaN             NaN   \n",
       "4            NaN            NaN            NaN             NaN   \n",
       "\n",
       "  JobSatPoints_11           SurveyLength SurveyEase ConvertedCompYearly JobSat  \n",
       "0             NaN                    NaN        NaN                 NaN    NaN  \n",
       "1             0.0                    NaN        NaN                 NaN    NaN  \n",
       "2             NaN  Appropriate in length       Easy                 NaN    NaN  \n",
       "3             NaN               Too long       Easy                 NaN    NaN  \n",
       "4             NaN              Too short       Easy                 NaN    NaN  \n",
       "\n",
       "[5 rows x 114 columns]"
      ]
     },
     "execution_count": 2,
     "metadata": {},
     "output_type": "execute_result"
    }
   ],
   "source": [
    "file_url = \"https://cf-courses-data.s3.us.cloud-object-storage.appdomain.cloud/n01PQ9pSmiRX6520flujwQ/survey-data.csv\"\n",
    "\n",
    "#Create the dataframe\n",
    "df = pd.read_csv(file_url)\n",
    "\n",
    "#Display the top 10 records\n",
    "df.head()\n"
   ]
  },
  {
   "cell_type": "markdown",
   "metadata": {},
   "source": [
    "<h3>Step 2: Plot the Distribution of Industry</h3>\n"
   ]
  },
  {
   "cell_type": "markdown",
   "metadata": {},
   "source": [
    "Explore how respondents are distributed across different industries.\n",
    "\n",
    "- Plot a bar chart to visualize the distribution of respondents by industry.\n",
    "\n",
    "- Highlight any notable trends.\n"
   ]
  },
  {
   "cell_type": "code",
   "execution_count": 3,
   "metadata": {},
   "outputs": [
    {
     "name": "stdout",
     "output_type": "stream",
     "text": [
      "['I am a developer by profession' 'I am learning to code'\n",
      " 'I code primarily as a hobby'\n",
      " 'I am not primarily a developer, but I write code sometimes as part of my work/studies'\n",
      " 'I used to be a developer by profession, but no longer am']\n"
     ]
    }
   ],
   "source": [
    "print(df['MainBranch'].unique())"
   ]
  },
  {
   "cell_type": "code",
   "execution_count": 4,
   "metadata": {},
   "outputs": [
    {
     "name": "stdout",
     "output_type": "stream",
     "text": [
      "['ResponseId', 'MainBranch', 'Age', 'Employment', 'RemoteWork', 'Check', 'CodingActivities', 'EdLevel', 'LearnCode', 'LearnCodeOnline', 'TechDoc', 'YearsCode', 'YearsCodePro', 'DevType', 'OrgSize', 'PurchaseInfluence', 'BuyNewTool', 'BuildvsBuy', 'TechEndorse', 'Country', 'Currency', 'CompTotal', 'LanguageHaveWorkedWith', 'LanguageWantToWorkWith', 'LanguageAdmired', 'DatabaseHaveWorkedWith', 'DatabaseWantToWorkWith', 'DatabaseAdmired', 'PlatformHaveWorkedWith', 'PlatformWantToWorkWith', 'PlatformAdmired', 'WebframeHaveWorkedWith', 'WebframeWantToWorkWith', 'WebframeAdmired', 'EmbeddedHaveWorkedWith', 'EmbeddedWantToWorkWith', 'EmbeddedAdmired', 'MiscTechHaveWorkedWith', 'MiscTechWantToWorkWith', 'MiscTechAdmired', 'ToolsTechHaveWorkedWith', 'ToolsTechWantToWorkWith', 'ToolsTechAdmired', 'NEWCollabToolsHaveWorkedWith', 'NEWCollabToolsWantToWorkWith', 'NEWCollabToolsAdmired', 'OpSysPersonal use', 'OpSysProfessional use', 'OfficeStackAsyncHaveWorkedWith', 'OfficeStackAsyncWantToWorkWith', 'OfficeStackAsyncAdmired', 'OfficeStackSyncHaveWorkedWith', 'OfficeStackSyncWantToWorkWith', 'OfficeStackSyncAdmired', 'AISearchDevHaveWorkedWith', 'AISearchDevWantToWorkWith', 'AISearchDevAdmired', 'NEWSOSites', 'SOVisitFreq', 'SOAccount', 'SOPartFreq', 'SOHow', 'SOComm', 'AISelect', 'AISent', 'AIBen', 'AIAcc', 'AIComplex', 'AIToolCurrently Using', 'AIToolInterested in Using', 'AIToolNot interested in Using', 'AINextMuch more integrated', 'AINextNo change', 'AINextMore integrated', 'AINextLess integrated', 'AINextMuch less integrated', 'AIThreat', 'AIEthics', 'AIChallenges', 'TBranch', 'ICorPM', 'WorkExp', 'Knowledge_1', 'Knowledge_2', 'Knowledge_3', 'Knowledge_4', 'Knowledge_5', 'Knowledge_6', 'Knowledge_7', 'Knowledge_8', 'Knowledge_9', 'Frequency_1', 'Frequency_2', 'Frequency_3', 'TimeSearching', 'TimeAnswering', 'Frustration', 'ProfessionalTech', 'ProfessionalCloud', 'ProfessionalQuestion', 'Industry', 'JobSatPoints_1', 'JobSatPoints_4', 'JobSatPoints_5', 'JobSatPoints_6', 'JobSatPoints_7', 'JobSatPoints_8', 'JobSatPoints_9', 'JobSatPoints_10', 'JobSatPoints_11', 'SurveyLength', 'SurveyEase', 'ConvertedCompYearly', 'JobSat']\n"
     ]
    }
   ],
   "source": [
    "# 获取所有列名\n",
    "column_names = df.columns.tolist()\n",
    "\n",
    "# 打印所有列名\n",
    "print(column_names)"
   ]
  },
  {
   "cell_type": "code",
   "execution_count": 5,
   "metadata": {},
   "outputs": [
    {
     "name": "stdout",
     "output_type": "stream",
     "text": [
      "[nan 'Healthcare' 'Software Development' 'Banking/Financial Services'\n",
      " 'Other:' 'Media & Advertising Services' 'Insurance'\n",
      " 'Internet, Telecomm or Information Services' 'Higher Education' 'Energy'\n",
      " 'Fintech' 'Retail and Consumer Services' 'Manufacturing' 'Government'\n",
      " 'Computer Systems Design and Services' 'Transportation, or Supply Chain']\n"
     ]
    }
   ],
   "source": [
    "print(df['Industry'].unique())"
   ]
  },
  {
   "cell_type": "code",
   "execution_count": 6,
   "metadata": {},
   "outputs": [
    {
     "name": "stdout",
     "output_type": "stream",
     "text": [
      "Industry\n",
      "Software Development                          11918\n",
      "Other:                                         3077\n",
      "Fintech                                        1641\n",
      "Internet, Telecomm or Information Services     1629\n",
      "Banking/Financial Services                     1371\n",
      "Healthcare                                     1277\n",
      "Manufacturing                                  1265\n",
      "Retail and Consumer Services                   1264\n",
      "Government                                      962\n",
      "Media & Advertising Services                    894\n",
      "Higher Education                                890\n",
      "Transportation, or Supply Chain                 859\n",
      "Computer Systems Design and Services            844\n",
      "Energy                                          578\n",
      "Insurance                                       389\n",
      "Name: count, dtype: int64\n"
     ]
    }
   ],
   "source": [
    "df_one = df['Industry'].value_counts()\n",
    "print(df_one)"
   ]
  },
  {
   "cell_type": "code",
   "execution_count": 7,
   "metadata": {},
   "outputs": [
    {
     "data": {
      "image/png": "[encoded data removed]",
      "text/plain": [
       "<Figure size 1000x600 with 1 Axes>"
      ]
     },
     "metadata": {},
     "output_type": "display_data"
    }
   ],
   "source": [
    "df_one.plot(kind='barh', figsize=(10, 6))\n",
    "\n",
    "plt.xlabel('Year')\n",
    "plt.ylabel('Number of immigrants')\n",
    "plt.title('Icelandic immigrants to Canada from 1980 to 2013')\n",
    "\n",
    "plt.show()"
   ]
  },
  {
   "cell_type": "markdown",
   "metadata": {},
   "source": [
    "<h3>Step 3: Identify High Compensation Outliers</h3>\n"
   ]
  },
  {
   "cell_type": "markdown",
   "metadata": {},
   "source": [
    "Identify respondents with extremely high yearly compensation.\n",
    "\n",
    "- Calculate basic statistics (mean, median, and standard deviation) for `ConvertedCompYearly`.\n",
    "\n",
    "- Identify compensation values exceeding a defined threshold (e.g., 3 standard deviations above the mean).\n"
   ]
  },
  {
   "cell_type": "code",
   "execution_count": 9,
   "metadata": {},
   "outputs": [
    {
     "name": "stdout",
     "output_type": "stream",
     "text": [
      "count    2.343500e+04\n",
      "mean     8.615529e+04\n",
      "std      1.867570e+05\n",
      "min      1.000000e+00\n",
      "25%      3.271200e+04\n",
      "50%      6.500000e+04\n",
      "75%      1.079715e+05\n",
      "max      1.625660e+07\n",
      "Name: ConvertedCompYearly, dtype: float64\n"
     ]
    }
   ],
   "source": [
    "print(df['ConvertedCompYearly'].describe())"
   ]
  },
  {
   "cell_type": "code",
   "execution_count": 10,
   "metadata": {},
   "outputs": [],
   "source": [
    "import numpy as np"
   ]
  },
  {
   "cell_type": "code",
   "execution_count": 15,
   "metadata": {},
   "outputs": [
    {
     "name": "stdout",
     "output_type": "stream",
     "text": [
      "529       650000.0\n",
      "828      1000000.0\n",
      "1932      945000.0\n",
      "2171      750000.0\n",
      "2187     2000000.0\n",
      "           ...    \n",
      "38219    1000000.0\n",
      "39643    1300000.0\n",
      "40066     800000.0\n",
      "40952     750000.0\n",
      "41027     700000.0\n",
      "Name: ConvertedCompYearly, Length: 89, dtype: float64\n"
     ]
    }
   ],
   "source": [
    "# 计算 Z-score\n",
    "Comp_mean = df['ConvertedCompYearly'].mean()\n",
    "Comp_std = df['ConvertedCompYearly'].std()\n",
    "Comp_z_scores = (df['ConvertedCompYearly'] - Comp_mean) / Comp_std\n",
    "\n",
    "# 找出 Z-score 大于 3 或小于 -3 的异常值\n",
    "Comp_outliers = df[(np.abs(Comp_z_scores) > 3)]\n",
    "print(Comp_outliers['ConvertedCompYearly'])"
   ]
  },
  {
   "cell_type": "markdown",
   "metadata": {},
   "source": [
    "<h3>Step 4: Detect Outliers in Compensation</h3>\n"
   ]
  },
  {
   "cell_type": "markdown",
   "metadata": {},
   "source": [
    "Identify outliers in the `ConvertedCompYearly` column using the IQR method.\n",
    "\n",
    "- Calculate the Interquartile Range (IQR).\n",
    "\n",
    "- Determine the upper and lower bounds for outliers.\n",
    "\n",
    "- Count and visualize outliers using a box plot.\n"
   ]
  },
  {
   "cell_type": "code",
   "execution_count": 18,
   "metadata": {},
   "outputs": [
    {
     "name": "stdout",
     "output_type": "stream",
     "text": [
      "428      230000.0\n",
      "456      300000.0\n",
      "461      254425.0\n",
      "529      650000.0\n",
      "545      400000.0\n",
      "           ...   \n",
      "40952    750000.0\n",
      "41000    235000.0\n",
      "41001    260000.0\n",
      "41027    700000.0\n",
      "41187    222834.0\n",
      "Name: ConvertedCompYearly, Length: 978, dtype: float64\n"
     ]
    }
   ],
   "source": [
    "Q1 = df['ConvertedCompYearly'].quantile(0.25)\n",
    "Q3 = df['ConvertedCompYearly'].quantile(0.75)\n",
    "IQR = Q3 - Q1\n",
    "lower_bound = Q1 - 1.5 * IQR\n",
    "upper_bound = Q3 + 1.5 * IQR\n",
    "\n",
    "# 找出低于 Q1 - 1.5 * IQR 或高于 Q3 + 1.5 * IQR 的异常值\n",
    "Comp_outliers_one = df[(df['ConvertedCompYearly'] < lower_bound) | (df['ConvertedCompYearly'] > upper_bound)]\n",
    "print(Comp_outliers_one['ConvertedCompYearly'])"
   ]
  },
  {
   "cell_type": "code",
   "execution_count": 19,
   "metadata": {},
   "outputs": [
    {
     "data": {
      "text/plain": [
       "<Axes: ylabel='ConvertedCompYearly'>"
      ]
     },
     "execution_count": 19,
     "metadata": {},
     "output_type": "execute_result"
    },
    {
     "data": {
      "image/png": "[encoded data removed]",
      "text/plain": [
       "<Figure size 640x480 with 1 Axes>"
      ]
     },
     "metadata": {},
     "output_type": "display_data"
    }
   ],
   "source": [
    "sns.boxplot(y='ConvertedCompYearly', data=Comp_outliers_one)"
   ]
  },
  {
   "cell_type": "markdown",
   "metadata": {},
   "source": [
    "<h3>Step 5: Remove Outliers and Create a New DataFrame</h3>\n"
   ]
  },
  {
   "cell_type": "markdown",
   "metadata": {},
   "source": [
    "Remove outliers from the dataset.\n",
    "\n",
    "- Create a new DataFrame excluding rows with outliers in `ConvertedCompYearly`.\n",
    "- Validate the size of the new DataFrame.\n"
   ]
  },
  {
   "cell_type": "code",
   "execution_count": 20,
   "metadata": {},
   "outputs": [],
   "source": [
    "##Write your code here\n",
    "df_no_outliers = df[(df['ConvertedCompYearly'] >= lower_bound) & (df['ConvertedCompYearly'] <= upper_bound)]"
   ]
  },
  {
   "cell_type": "markdown",
   "metadata": {},
   "source": [
    "<h3>Step 6: Correlation Analysis</h3>\n"
   ]
  },
  {
   "cell_type": "markdown",
   "metadata": {},
   "source": [
    "Analyze the correlation between `Age` (transformed) and other numerical columns.\n",
    "\n",
    "- Map the `Age` column to approximate numeric values.\n",
    "\n",
    "- Compute correlations between `Age` and other numeric variables.\n",
    "\n",
    "- Visualize the correlation matrix.\n"
   ]
  },
  {
   "cell_type": "code",
   "execution_count": 22,
   "metadata": {},
   "outputs": [
    {
     "name": "stdout",
     "output_type": "stream",
     "text": [
      "['ResponseId', 'CompTotal', 'WorkExp', 'JobSatPoints_1', 'JobSatPoints_4', 'JobSatPoints_5', 'JobSatPoints_6', 'JobSatPoints_7', 'JobSatPoints_8', 'JobSatPoints_9', 'JobSatPoints_10', 'JobSatPoints_11', 'ConvertedCompYearly', 'JobSat']\n"
     ]
    }
   ],
   "source": [
    "##Write your code here\n",
    "numeric_cols = df_no_outliers.select_dtypes(include='number').columns.tolist()\n",
    "print(numeric_cols)"
   ]
  },
  {
   "cell_type": "code",
   "execution_count": 23,
   "metadata": {},
   "outputs": [
    {
     "name": "stdout",
     "output_type": "stream",
     "text": [
      "['Under 18 years old' '35-44 years old' '45-54 years old'\n",
      " '18-24 years old' '25-34 years old' '55-64 years old' 'Prefer not to say'\n",
      " '65 years or older']\n"
     ]
    }
   ],
   "source": [
    "print(df['Age'].unique())"
   ]
  },
  {
   "cell_type": "code",
   "execution_count": 27,
   "metadata": {},
   "outputs": [
    {
     "name": "stdout",
     "output_type": "stream",
     "text": [
      "72       21.0\n",
      "374      30.0\n",
      "379      40.0\n",
      "385      40.0\n",
      "389      30.0\n",
      "         ... \n",
      "41179    30.0\n",
      "41180    30.0\n",
      "41184    50.0\n",
      "41185    40.0\n",
      "41186    21.0\n",
      "Name: Age_Numeric, Length: 22457, dtype: float64\n"
     ]
    },
    {
     "name": "stderr",
     "output_type": "stream",
     "text": [
      "/tmp/ipykernel_306/1194302769.py:14: SettingWithCopyWarning: \n",
      "A value is trying to be set on a copy of a slice from a DataFrame.\n",
      "Try using .loc[row_indexer,col_indexer] = value instead\n",
      "\n",
      "See the caveats in the documentation: https://pandas.pydata.org/pandas-docs/stable/user_guide/indexing.html#returning-a-view-versus-a-copy\n",
      "  df_no_outliers['Age_Numeric'] = df_no_outliers['Age'].map(age_mapping)\n"
     ]
    }
   ],
   "source": [
    "# 定义年龄区间的映射字典\n",
    "age_mapping = {\n",
    "    'Under 18 years old': 13,   # 取中间值 17.5 向下取整\n",
    "    '18-24 years old': 21,     # 取中间值 21\n",
    "    '25-34 years old': 30,     # 取中间值 29.5 向下取整\n",
    "    '35-44 years old': 40,     # 取中间值 39.5 向下取整\n",
    "    '45-54 years old': 50,     # 取中间值 49.5 向下取整\n",
    "    '55-64 years old': 60,     # 取中间值 59.5 向下取整\n",
    "    '65 years or older': 70,   # 取中间值 67.5 向下取整\n",
    "    'Prefer not to say': None  # 如果不想透露，则设置为 None 或其他合适的值\n",
    "}\n",
    "\n",
    "# 使用 map 方法进行映射\n",
    "df_no_outliers['Age_Numeric'] = df_no_outliers['Age'].map(age_mapping)\n",
    "\n",
    "print(df_no_outliers['Age_Numeric'])"
   ]
  },
  {
   "cell_type": "code",
   "execution_count": 25,
   "metadata": {},
   "outputs": [],
   "source": [
    "numeric_cols = df_no_outliers.select_dtypes(include='number').columns.tolist()\n",
    "print"
   ]
  },
  {
   "cell_type": "code",
   "execution_count": 26,
   "metadata": {},
   "outputs": [
    {
     "data": {
      "text/html": [
       "<div>\n",
       "<style scoped>\n",
       "    .dataframe tbody tr th:only-of-type {\n",
       "        vertical-align: middle;\n",
       "    }\n",
       "\n",
       "    .dataframe tbody tr th {\n",
       "        vertical-align: top;\n",
       "    }\n",
       "\n",
       "    .dataframe thead th {\n",
       "        text-align: right;\n",
       "    }\n",
       "</style>\n",
       "<table border=\"1\" class=\"dataframe\">\n",
       "  <thead>\n",
       "    <tr style=\"text-align: right;\">\n",
       "      <th></th>\n",
       "      <th>ResponseId</th>\n",
       "      <th>CompTotal</th>\n",
       "      <th>WorkExp</th>\n",
       "      <th>JobSatPoints_1</th>\n",
       "      <th>JobSatPoints_4</th>\n",
       "      <th>JobSatPoints_5</th>\n",
       "      <th>JobSatPoints_6</th>\n",
       "      <th>JobSatPoints_7</th>\n",
       "      <th>JobSatPoints_8</th>\n",
       "      <th>JobSatPoints_9</th>\n",
       "      <th>JobSatPoints_10</th>\n",
       "      <th>JobSatPoints_11</th>\n",
       "      <th>ConvertedCompYearly</th>\n",
       "      <th>JobSat</th>\n",
       "    </tr>\n",
       "  </thead>\n",
       "  <tbody>\n",
       "    <tr>\n",
       "      <th>ResponseId</th>\n",
       "      <td>1.000000</td>\n",
       "      <td>-0.014098</td>\n",
       "      <td>-0.039416</td>\n",
       "      <td>0.014194</td>\n",
       "      <td>0.002130</td>\n",
       "      <td>0.007478</td>\n",
       "      <td>0.008950</td>\n",
       "      <td>0.020057</td>\n",
       "      <td>0.004989</td>\n",
       "      <td>0.022193</td>\n",
       "      <td>0.011755</td>\n",
       "      <td>0.011030</td>\n",
       "      <td>-0.012948</td>\n",
       "      <td>-0.020004</td>\n",
       "    </tr>\n",
       "    <tr>\n",
       "      <th>CompTotal</th>\n",
       "      <td>-0.014098</td>\n",
       "      <td>1.000000</td>\n",
       "      <td>-0.018013</td>\n",
       "      <td>0.017761</td>\n",
       "      <td>0.004478</td>\n",
       "      <td>0.025861</td>\n",
       "      <td>0.011577</td>\n",
       "      <td>0.022383</td>\n",
       "      <td>0.010580</td>\n",
       "      <td>0.007242</td>\n",
       "      <td>0.011561</td>\n",
       "      <td>0.018388</td>\n",
       "      <td>0.030847</td>\n",
       "      <td>-0.007520</td>\n",
       "    </tr>\n",
       "    <tr>\n",
       "      <th>WorkExp</th>\n",
       "      <td>-0.039416</td>\n",
       "      <td>-0.018013</td>\n",
       "      <td>1.000000</td>\n",
       "      <td>-0.032388</td>\n",
       "      <td>-0.057005</td>\n",
       "      <td>-0.094126</td>\n",
       "      <td>-0.063702</td>\n",
       "      <td>-0.097756</td>\n",
       "      <td>-0.047072</td>\n",
       "      <td>-0.088181</td>\n",
       "      <td>-0.105905</td>\n",
       "      <td>-0.101986</td>\n",
       "      <td>0.408438</td>\n",
       "      <td>0.092493</td>\n",
       "    </tr>\n",
       "    <tr>\n",
       "      <th>JobSatPoints_1</th>\n",
       "      <td>0.014194</td>\n",
       "      <td>0.017761</td>\n",
       "      <td>-0.032388</td>\n",
       "      <td>1.000000</td>\n",
       "      <td>0.430698</td>\n",
       "      <td>0.634049</td>\n",
       "      <td>0.617106</td>\n",
       "      <td>0.600079</td>\n",
       "      <td>0.623773</td>\n",
       "      <td>0.597856</td>\n",
       "      <td>0.586337</td>\n",
       "      <td>0.613106</td>\n",
       "      <td>-0.058170</td>\n",
       "      <td>0.091201</td>\n",
       "    </tr>\n",
       "    <tr>\n",
       "      <th>JobSatPoints_4</th>\n",
       "      <td>0.002130</td>\n",
       "      <td>0.004478</td>\n",
       "      <td>-0.057005</td>\n",
       "      <td>0.430698</td>\n",
       "      <td>1.000000</td>\n",
       "      <td>0.508031</td>\n",
       "      <td>0.425768</td>\n",
       "      <td>0.437171</td>\n",
       "      <td>0.419233</td>\n",
       "      <td>0.460950</td>\n",
       "      <td>0.480492</td>\n",
       "      <td>0.501636</td>\n",
       "      <td>-0.095050</td>\n",
       "      <td>0.031400</td>\n",
       "    </tr>\n",
       "    <tr>\n",
       "      <th>JobSatPoints_5</th>\n",
       "      <td>0.007478</td>\n",
       "      <td>0.025861</td>\n",
       "      <td>-0.094126</td>\n",
       "      <td>0.634049</td>\n",
       "      <td>0.508031</td>\n",
       "      <td>1.000000</td>\n",
       "      <td>0.605418</td>\n",
       "      <td>0.598544</td>\n",
       "      <td>0.623889</td>\n",
       "      <td>0.616946</td>\n",
       "      <td>0.634268</td>\n",
       "      <td>0.687984</td>\n",
       "      <td>-0.185850</td>\n",
       "      <td>0.053042</td>\n",
       "    </tr>\n",
       "    <tr>\n",
       "      <th>JobSatPoints_6</th>\n",
       "      <td>0.008950</td>\n",
       "      <td>0.011577</td>\n",
       "      <td>-0.063702</td>\n",
       "      <td>0.617106</td>\n",
       "      <td>0.425768</td>\n",
       "      <td>0.605418</td>\n",
       "      <td>1.000000</td>\n",
       "      <td>0.669685</td>\n",
       "      <td>0.629271</td>\n",
       "      <td>0.622600</td>\n",
       "      <td>0.583116</td>\n",
       "      <td>0.594364</td>\n",
       "      <td>-0.090162</td>\n",
       "      <td>0.043408</td>\n",
       "    </tr>\n",
       "    <tr>\n",
       "      <th>JobSatPoints_7</th>\n",
       "      <td>0.020057</td>\n",
       "      <td>0.022383</td>\n",
       "      <td>-0.097756</td>\n",
       "      <td>0.600079</td>\n",
       "      <td>0.437171</td>\n",
       "      <td>0.598544</td>\n",
       "      <td>0.669685</td>\n",
       "      <td>1.000000</td>\n",
       "      <td>0.683791</td>\n",
       "      <td>0.650530</td>\n",
       "      <td>0.639103</td>\n",
       "      <td>0.609743</td>\n",
       "      <td>-0.159449</td>\n",
       "      <td>0.040644</td>\n",
       "    </tr>\n",
       "    <tr>\n",
       "      <th>JobSatPoints_8</th>\n",
       "      <td>0.004989</td>\n",
       "      <td>0.010580</td>\n",
       "      <td>-0.047072</td>\n",
       "      <td>0.623773</td>\n",
       "      <td>0.419233</td>\n",
       "      <td>0.623889</td>\n",
       "      <td>0.629271</td>\n",
       "      <td>0.683791</td>\n",
       "      <td>1.000000</td>\n",
       "      <td>0.645305</td>\n",
       "      <td>0.613689</td>\n",
       "      <td>0.615714</td>\n",
       "      <td>-0.100068</td>\n",
       "      <td>0.060597</td>\n",
       "    </tr>\n",
       "    <tr>\n",
       "      <th>JobSatPoints_9</th>\n",
       "      <td>0.022193</td>\n",
       "      <td>0.007242</td>\n",
       "      <td>-0.088181</td>\n",
       "      <td>0.597856</td>\n",
       "      <td>0.460950</td>\n",
       "      <td>0.616946</td>\n",
       "      <td>0.622600</td>\n",
       "      <td>0.650530</td>\n",
       "      <td>0.645305</td>\n",
       "      <td>1.000000</td>\n",
       "      <td>0.649544</td>\n",
       "      <td>0.639383</td>\n",
       "      <td>-0.125813</td>\n",
       "      <td>0.046495</td>\n",
       "    </tr>\n",
       "    <tr>\n",
       "      <th>JobSatPoints_10</th>\n",
       "      <td>0.011755</td>\n",
       "      <td>0.011561</td>\n",
       "      <td>-0.105905</td>\n",
       "      <td>0.586337</td>\n",
       "      <td>0.480492</td>\n",
       "      <td>0.634268</td>\n",
       "      <td>0.583116</td>\n",
       "      <td>0.639103</td>\n",
       "      <td>0.613689</td>\n",
       "      <td>0.649544</td>\n",
       "      <td>1.000000</td>\n",
       "      <td>0.731203</td>\n",
       "      <td>-0.166449</td>\n",
       "      <td>0.050347</td>\n",
       "    </tr>\n",
       "    <tr>\n",
       "      <th>JobSatPoints_11</th>\n",
       "      <td>0.011030</td>\n",
       "      <td>0.018388</td>\n",
       "      <td>-0.101986</td>\n",
       "      <td>0.613106</td>\n",
       "      <td>0.501636</td>\n",
       "      <td>0.687984</td>\n",
       "      <td>0.594364</td>\n",
       "      <td>0.609743</td>\n",
       "      <td>0.615714</td>\n",
       "      <td>0.639383</td>\n",
       "      <td>0.731203</td>\n",
       "      <td>1.000000</td>\n",
       "      <td>-0.155785</td>\n",
       "      <td>0.051787</td>\n",
       "    </tr>\n",
       "    <tr>\n",
       "      <th>ConvertedCompYearly</th>\n",
       "      <td>-0.012948</td>\n",
       "      <td>0.030847</td>\n",
       "      <td>0.408438</td>\n",
       "      <td>-0.058170</td>\n",
       "      <td>-0.095050</td>\n",
       "      <td>-0.185850</td>\n",
       "      <td>-0.090162</td>\n",
       "      <td>-0.159449</td>\n",
       "      <td>-0.100068</td>\n",
       "      <td>-0.125813</td>\n",
       "      <td>-0.166449</td>\n",
       "      <td>-0.155785</td>\n",
       "      <td>1.000000</td>\n",
       "      <td>0.075244</td>\n",
       "    </tr>\n",
       "    <tr>\n",
       "      <th>JobSat</th>\n",
       "      <td>-0.020004</td>\n",
       "      <td>-0.007520</td>\n",
       "      <td>0.092493</td>\n",
       "      <td>0.091201</td>\n",
       "      <td>0.031400</td>\n",
       "      <td>0.053042</td>\n",
       "      <td>0.043408</td>\n",
       "      <td>0.040644</td>\n",
       "      <td>0.060597</td>\n",
       "      <td>0.046495</td>\n",
       "      <td>0.050347</td>\n",
       "      <td>0.051787</td>\n",
       "      <td>0.075244</td>\n",
       "      <td>1.000000</td>\n",
       "    </tr>\n",
       "  </tbody>\n",
       "</table>\n",
       "</div>"
      ],
      "text/plain": [
       "                     ResponseId  CompTotal   WorkExp  JobSatPoints_1  \\\n",
       "ResponseId             1.000000  -0.014098 -0.039416        0.014194   \n",
       "CompTotal             -0.014098   1.000000 -0.018013        0.017761   \n",
       "WorkExp               -0.039416  -0.018013  1.000000       -0.032388   \n",
       "JobSatPoints_1         0.014194   0.017761 -0.032388        1.000000   \n",
       "JobSatPoints_4         0.002130   0.004478 -0.057005        0.430698   \n",
       "JobSatPoints_5         0.007478   0.025861 -0.094126        0.634049   \n",
       "JobSatPoints_6         0.008950   0.011577 -0.063702        0.617106   \n",
       "JobSatPoints_7         0.020057   0.022383 -0.097756        0.600079   \n",
       "JobSatPoints_8         0.004989   0.010580 -0.047072        0.623773   \n",
       "JobSatPoints_9         0.022193   0.007242 -0.088181        0.597856   \n",
       "JobSatPoints_10        0.011755   0.011561 -0.105905        0.586337   \n",
       "JobSatPoints_11        0.011030   0.018388 -0.101986        0.613106   \n",
       "ConvertedCompYearly   -0.012948   0.030847  0.408438       -0.058170   \n",
       "JobSat                -0.020004  -0.007520  0.092493        0.091201   \n",
       "\n",
       "                     JobSatPoints_4  JobSatPoints_5  JobSatPoints_6  \\\n",
       "ResponseId                 0.002130        0.007478        0.008950   \n",
       "CompTotal                  0.004478        0.025861        0.011577   \n",
       "WorkExp                   -0.057005       -0.094126       -0.063702   \n",
       "JobSatPoints_1             0.430698        0.634049        0.617106   \n",
       "JobSatPoints_4             1.000000        0.508031        0.425768   \n",
       "JobSatPoints_5             0.508031        1.000000        0.605418   \n",
       "JobSatPoints_6             0.425768        0.605418        1.000000   \n",
       "JobSatPoints_7             0.437171        0.598544        0.669685   \n",
       "JobSatPoints_8             0.419233        0.623889        0.629271   \n",
       "JobSatPoints_9             0.460950        0.616946        0.622600   \n",
       "JobSatPoints_10            0.480492        0.634268        0.583116   \n",
       "JobSatPoints_11            0.501636        0.687984        0.594364   \n",
       "ConvertedCompYearly       -0.095050       -0.185850       -0.090162   \n",
       "JobSat                     0.031400        0.053042        0.043408   \n",
       "\n",
       "                     JobSatPoints_7  JobSatPoints_8  JobSatPoints_9  \\\n",
       "ResponseId                 0.020057        0.004989        0.022193   \n",
       "CompTotal                  0.022383        0.010580        0.007242   \n",
       "WorkExp                   -0.097756       -0.047072       -0.088181   \n",
       "JobSatPoints_1             0.600079        0.623773        0.597856   \n",
       "JobSatPoints_4             0.437171        0.419233        0.460950   \n",
       "JobSatPoints_5             0.598544        0.623889        0.616946   \n",
       "JobSatPoints_6             0.669685        0.629271        0.622600   \n",
       "JobSatPoints_7             1.000000        0.683791        0.650530   \n",
       "JobSatPoints_8             0.683791        1.000000        0.645305   \n",
       "JobSatPoints_9             0.650530        0.645305        1.000000   \n",
       "JobSatPoints_10            0.639103        0.613689        0.649544   \n",
       "JobSatPoints_11            0.609743        0.615714        0.639383   \n",
       "ConvertedCompYearly       -0.159449       -0.100068       -0.125813   \n",
       "JobSat                     0.040644        0.060597        0.046495   \n",
       "\n",
       "                     JobSatPoints_10  JobSatPoints_11  ConvertedCompYearly  \\\n",
       "ResponseId                  0.011755         0.011030            -0.012948   \n",
       "CompTotal                   0.011561         0.018388             0.030847   \n",
       "WorkExp                    -0.105905        -0.101986             0.408438   \n",
       "JobSatPoints_1              0.586337         0.613106            -0.058170   \n",
       "JobSatPoints_4              0.480492         0.501636            -0.095050   \n",
       "JobSatPoints_5              0.634268         0.687984            -0.185850   \n",
       "JobSatPoints_6              0.583116         0.594364            -0.090162   \n",
       "JobSatPoints_7              0.639103         0.609743            -0.159449   \n",
       "JobSatPoints_8              0.613689         0.615714            -0.100068   \n",
       "JobSatPoints_9              0.649544         0.639383            -0.125813   \n",
       "JobSatPoints_10             1.000000         0.731203            -0.166449   \n",
       "JobSatPoints_11             0.731203         1.000000            -0.155785   \n",
       "ConvertedCompYearly        -0.166449        -0.155785             1.000000   \n",
       "JobSat                      0.050347         0.051787             0.075244   \n",
       "\n",
       "                       JobSat  \n",
       "ResponseId          -0.020004  \n",
       "CompTotal           -0.007520  \n",
       "WorkExp              0.092493  \n",
       "JobSatPoints_1       0.091201  \n",
       "JobSatPoints_4       0.031400  \n",
       "JobSatPoints_5       0.053042  \n",
       "JobSatPoints_6       0.043408  \n",
       "JobSatPoints_7       0.040644  \n",
       "JobSatPoints_8       0.060597  \n",
       "JobSatPoints_9       0.046495  \n",
       "JobSatPoints_10      0.050347  \n",
       "JobSatPoints_11      0.051787  \n",
       "ConvertedCompYearly  0.075244  \n",
       "JobSat               1.000000  "
      ]
     },
     "execution_count": 26,
     "metadata": {},
     "output_type": "execute_result"
    }
   ],
   "source": [
    "df_no_outliers[numeric_cols].corr()"
   ]
  },
  {
   "cell_type": "markdown",
   "metadata": {},
   "source": [
    "<h3> Summary </h3>\n"
   ]
  },
  {
   "cell_type": "markdown",
   "metadata": {},
   "source": [
    "In this lab, you developed essential skills in **Exploratory Data Analysis (EDA)** with a focus on outlier detection and removal. Specifically, you:\n"
   ]
  },
  {
   "cell_type": "markdown",
   "metadata": {},
   "source": [
    "- Loaded and explored the dataset to understand its structure.\n",
    "\n",
    "- Analyzed the distribution of respondents across industries.\n",
    "\n",
    "- Identified and removed high compensation outliers using statistical thresholds and the Interquartile Range (IQR) method.\n",
    "\n",
    "- Performed correlation analysis, including transforming the `Age` column into numeric values for better analysis.\n"
   ]
  },
  {
   "cell_type": "markdown",
   "metadata": {},
   "source": [
    "<!--\n",
    "## Change Log\n",
    "|Date (YYYY-MM-DD)|Version|Changed By|Change Description|\n",
    "|-|-|-|-|               \n",
    "|2024-10-1|1.1|Madhusudan Moole|Reviewed and updated lab|                                                                                    \n",
    "|2024-09-29|1.0|Raghul Ramesh|Created lab|\n",
    "--!>\n"
   ]
  },
  {
   "cell_type": "markdown",
   "metadata": {},
   "source": [
    "Copyright © IBM Corporation. All rights reserved.\n"
   ]
  }
 ],
 "metadata": {
  "kernelspec": {
   "display_name": "Python 3 (ipykernel)",
   "language": "python",
   "name": "python3"
  },
  "language_info": {
   "codemirror_mode": {
    "name": "ipython",
    "version": 3
   },
   "file_extension": ".py",
   "mimetype": "text/x-python",
   "name": "python",
   "nbconvert_exporter": "python",
   "pygments_lexer": "ipython3",
   "version": "3.12.8"
  },
  "prev_pub_hash": "bfb6b5324ee15056f94c357f33a9f92b9c3ff0f4ad4b517e8e51e820f5595113"
 },
 "nbformat": 4,
 "nbformat_minor": 4
}
